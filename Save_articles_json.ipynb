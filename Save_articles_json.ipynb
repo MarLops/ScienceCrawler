{
 "cells": [
  {
   "cell_type": "markdown",
   "metadata": {},
   "source": []
  },
  {
   "cell_type": "code",
   "execution_count": null,
   "metadata": {},
   "outputs": [],
   "source": [
    "from sciencecrawler.pubmed import PubmedSearch\n",
    "import json\n",
    "from neo4jsciencecrawler import Neo4jScienceCrawler\n",
    "import time"
   ]
  },
  {
   "cell_type": "code",
   "execution_count": null,
   "metadata": {},
   "outputs": [],
   "source": [
    "searchengine = PubmedSearch('covid chloroquine')"
   ]
  },
  {
   "cell_type": "code",
   "execution_count": null,
   "metadata": {},
   "outputs": [],
   "source": [
    "total = searchengine.total_search"
   ]
  },
  {
   "cell_type": "code",
   "execution_count": null,
   "metadata": {},
   "outputs": [],
   "source": [
    "total"
   ]
  },
  {
   "cell_type": "code",
   "execution_count": null,
   "metadata": {},
   "outputs": [],
   "source": [
    "articles_current_page = searchengine.get_list_articles()"
   ]
  },
  {
   "cell_type": "code",
   "execution_count": null,
   "metadata": {},
   "outputs": [],
   "source": [
    "neo4jC = Neo4jScienceCrawler(\"bolt://localhost:7687\",'neo4j','admin')"
   ]
  },
  {
   "cell_type": "code",
   "execution_count": null,
   "metadata": {},
   "outputs": [],
   "source": [
    "for article in articles_current_page:\n",
    "    article_json = article.to_json()\n",
    "    neo4jC.create_article(article_json)\n",
    "    '''\n",
    "    references = article.get_references()\n",
    "    for ref in references:\n",
    "        ref_json = ref.to_json()\n",
    "        neo4jC.create_connection_ref(article_json['id'],ref_json)\n",
    "    '''"
   ]
  },
  {
   "cell_type": "code",
   "execution_count": null,
   "metadata": {},
   "outputs": [],
   "source": [
    "while articles_read < total:\n",
    "    time.sleep(5)\n",
    "    print(articles_read)\n",
    "    searchengine.get_next_page()\n",
    "    articles_current_page = searchengine.get_list_articles()\n",
    "    articles_read = articles_read + len(articles_current_page)\n",
    "    for article in articles_current_page:\n",
    "        try:\n",
    "            article_json = article.to_json()\n",
    "            article_json['id'] = article_json['doi'].replace(\"doi:\",\"\").replace(\"/\",\"\").replace(\".\",\"\").lower()\n",
    "            neo4jC.create_article(article_json)\n",
    "        except Exception as ex:\n",
    "            print(\"=======================\")\n",
    "            print(article.title)\n",
    "            print(\"\\n\")\n",
    "            print(ex)\n",
    "            print(\"====================================\")"
   ]
  },
  {
   "cell_type": "code",
   "execution_count": null,
   "metadata": {},
   "outputs": [],
   "source": []
  }
 ],
 "metadata": {
  "kernelspec": {
   "display_name": "Python 3",
   "language": "python",
   "name": "python3"
  },
  "language_info": {
   "codemirror_mode": {
    "name": "ipython",
    "version": 3
   },
   "file_extension": ".py",
   "mimetype": "text/x-python",
   "name": "python",
   "nbconvert_exporter": "python",
   "pygments_lexer": "ipython3",
   "version": "3.7.3"
  }
 },
 "nbformat": 4,
 "nbformat_minor": 2
}
