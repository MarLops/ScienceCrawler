{
 "cells": [
  {
   "cell_type": "code",
   "execution_count": null,
   "metadata": {},
   "outputs": [],
   "source": [
    "from sciencecrawler.pubmed import PubmedSearch, PubmedArticle\n",
    "import json\n",
    "from neo4jsciencecrawler import Neo4jScienceCrawler, tools as neo4jtools\n",
    "import time\n"
   ]
  },
  {
   "cell_type": "code",
   "execution_count": null,
   "metadata": {},
   "outputs": [],
   "source": [
    "words_covid = [\"COVID-19\",\"SARS‑CoV‑2\",\"SARSCoV-2\",\"COVID-2019\",\"2019-nCoV\",\"HCoV-19\",\"hCoV-19\",\"2019-nCoV\",\"Wuhan coronavírus\",\"Wuhan pneumonia\",\"Pneumonia in Wuhan\"]\n",
    "words_hidro = [\"Hydroxychloroquine\",\"(Hydroxy)chloroquine\",\"Chloroquine\",\"CQ\",\"HCQ\"]"
   ]
  },
  {
   "cell_type": "code",
   "execution_count": null,
   "metadata": {},
   "outputs": [],
   "source": [
    "USER = \"\"\n",
    "PASSWORD = \"\"\n",
    "URL = \"bolt://localhost:7687\""
   ]
  },
  {
   "cell_type": "code",
   "execution_count": null,
   "metadata": {},
   "outputs": [],
   "source": [
    "searchengine = PubmedSearch('covid-19 chloroquine')"
   ]
  },
  {
   "cell_type": "code",
   "execution_count": null,
   "metadata": {},
   "outputs": [],
   "source": [
    "total = searchengine.total_search"
   ]
  },
  {
   "cell_type": "code",
   "execution_count": null,
   "metadata": {},
   "outputs": [],
   "source": [
    "total = 50"
   ]
  },
  {
   "cell_type": "code",
   "execution_count": null,
   "metadata": {},
   "outputs": [],
   "source": [
    "articles = searchengine.get_list_articles()"
   ]
  },
  {
   "cell_type": "code",
   "execution_count": null,
   "metadata": {},
   "outputs": [],
   "source": [
    "articles_read = 0"
   ]
  },
  {
   "cell_type": "code",
   "execution_count": null,
   "metadata": {},
   "outputs": [],
   "source": [
    "neo4jC = Neo4jScienceCrawler(URL,USER,PASSWORD)\n",
    "\n",
    "def save_in_neo4j(article):\n",
    "    try:\n",
    "        article_json = article.to_json()\n",
    "        references = article.get_references()\n",
    "        neo4jC.create_article(article_json)\n",
    "        neo4jC.change_metadado(article_json['id'],\"is_covid\",neo4jtools.check_article(article_json,words_covid))\n",
    "        neo4jC.change_metadado(article_json['id'],\"is_hidro\",neo4jtools.check_article(article_json,words_hidro))\n",
    "        for ref in references:\n",
    "            ref_json = ref.to_json()\n",
    "            neo4jC.create_connection_ref(article_json['id'],ref_json)\n",
    "            neo4jC.change_metadado(ref_json['id'],\"is_covid\",neo4jtools.check_article(ref_json,words_covid))\n",
    "            neo4jC.change_metadado(ref_json['id'],\"is_hidro\",neo4jtools.check_article(ref_json,words_hidro))\n",
    "    except Exception as ex:\n",
    "        print(ex)\n",
    "    "
   ]
  },
  {
   "cell_type": "code",
   "execution_count": null,
   "metadata": {},
   "outputs": [],
   "source": [
    "while articles_read < total:\n",
    "    try:\n",
    "        time.sleep(5)\n",
    "        print(articles_read)\n",
    "        searchengine.get_next_page()\n",
    "        articles_current_page = searchengine.get_list_articles()\n",
    "        articles_read = articles_read + len(articles_current_page)\n",
    "        for article in articles_current_page:\n",
    "            try:\n",
    "                print(article.url)\n",
    "                save_in_neo4j(article)\n",
    "            except Exception as ex:\n",
    "                print(ex)\n",
    "    except Exception as ex:\n",
    "        print(ex)\n",
    "      "
   ]
  },
  {
   "cell_type": "code",
   "execution_count": null,
   "metadata": {},
   "outputs": [],
   "source": []
  }
 ],
 "metadata": {
  "interpreter": {
   "hash": "ddb7f34a963c56b244aa2b1fdcdae6f08d7703f97909ad7ab612861467f3f435"
  },
  "kernelspec": {
   "display_name": "Python 3.7.3 ('base')",
   "language": "python",
   "name": "python3"
  },
  "language_info": {
   "codemirror_mode": {
    "name": "ipython",
    "version": 3
   },
   "file_extension": ".py",
   "mimetype": "text/x-python",
   "name": "python",
   "nbconvert_exporter": "python",
   "pygments_lexer": "ipython3",
   "version": "3.7.3"
  }
 },
 "nbformat": 4,
 "nbformat_minor": 2
}
